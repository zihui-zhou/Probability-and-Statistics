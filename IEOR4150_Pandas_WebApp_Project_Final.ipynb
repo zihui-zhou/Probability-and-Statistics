{
 "cells": [
  {
   "cell_type": "code",
   "execution_count": 1,
   "metadata": {
    "hideCode": false,
    "scrolled": true,
    "slideshow": {
     "slide_type": "notes"
    }
   },
   "outputs": [
    {
     "data": {
      "text/html": [
       "        <script type=\"text/javascript\">\n",
       "        window.PlotlyConfig = {MathJaxConfig: 'local'};\n",
       "        if (window.MathJax) {MathJax.Hub.Config({SVG: {font: \"STIX-Web\"}});}\n",
       "        if (typeof require !== 'undefined') {\n",
       "        require.undef(\"plotly\");\n",
       "        requirejs.config({\n",
       "            paths: {\n",
       "                'plotly': ['https://cdn.plot.ly/plotly-latest.min']\n",
       "            }\n",
       "        });\n",
       "        require(['plotly'], function(Plotly) {\n",
       "            window._Plotly = Plotly;\n",
       "        });\n",
       "        }\n",
       "        </script>\n",
       "        "
      ]
     },
     "metadata": {},
     "output_type": "display_data"
    },
    {
     "data": {
      "text/html": [
       "        <script type=\"text/javascript\">\n",
       "        window.PlotlyConfig = {MathJaxConfig: 'local'};\n",
       "        if (window.MathJax) {MathJax.Hub.Config({SVG: {font: \"STIX-Web\"}});}\n",
       "        if (typeof require !== 'undefined') {\n",
       "        require.undef(\"plotly\");\n",
       "        requirejs.config({\n",
       "            paths: {\n",
       "                'plotly': ['https://cdn.plot.ly/plotly-latest.min']\n",
       "            }\n",
       "        });\n",
       "        require(['plotly'], function(Plotly) {\n",
       "            window._Plotly = Plotly;\n",
       "        });\n",
       "        }\n",
       "        </script>\n",
       "        "
      ]
     },
     "metadata": {},
     "output_type": "display_data"
    },
    {
     "data": {
      "application/javascript": [
       "window.genUID = function() {\n",
       "    return 'xxxxxxxx-xxxx-4xxx-yxxx-xxxxxxxxxxxx'.replace(/[xy]/g, function(c) {\n",
       "        var r = Math.random()*16|0, v = c == 'x' ? r : (r&0x3|0x8);\n",
       "        return v.toString(16);\n",
       "    });\n",
       "};\n",
       "\n",
       "\n",
       "define('graphWidget', [\"@jupyter-widgets/base\"], function (widget) {\n",
       "\n",
       "    var GraphView = widget.DOMWidgetView.extend({\n",
       "        render: function(){\n",
       "            var that = this;\n",
       "\n",
       "            var graphId = window.genUID();\n",
       "            var loadingId = 'loading-'+graphId;\n",
       "\n",
       "\n",
       "            var _graph_url = that.model.get('_graph_url');\n",
       "\n",
       "            // variable plotlyDomain in the case of enterprise\n",
       "            var url_parts = _graph_url.split('/');\n",
       "            var plotlyDomain = url_parts[0] + '//' + url_parts[2];\n",
       "\n",
       "            if(!('plotlyDomains' in window)){\n",
       "                window.plotlyDomains = {};\n",
       "            }\n",
       "            window.plotlyDomains[graphId] = plotlyDomain;\n",
       "\n",
       "            // Place IFrame in output cell div `$el`\n",
       "            that.$el.css('width', '100%');\n",
       "            that.$graph = $(['<iframe id=\"'+graphId+'\"',\n",
       "                             'src=\"'+_graph_url+'.embed\"',\n",
       "                             'seamless',\n",
       "                             'style=\"border: none;\"',\n",
       "                             'width=\"100%\"',\n",
       "                             'height=\"600\">',\n",
       "                             '</iframe>'].join(' '));\n",
       "            that.$graph.appendTo(that.$el);\n",
       "\n",
       "            that.$loading = $('<div id=\"'+loadingId+'\">Initializing...</div>')\n",
       "                            .appendTo(that.$el);\n",
       "\n",
       "            // for some reason the 'width' is being changed in IPython 3.0.0\n",
       "            // for the containing `div` element. There's a flicker here, but\n",
       "            // I was unable to fix it otherwise.\n",
       "            setTimeout(function ()  {\n",
       "                if (IPYTHON_VERSION === '3') {\n",
       "                    $('#' + graphId)[0].parentElement.style.width = '100%';\n",
       "                }\n",
       "            }, 500);\n",
       "\n",
       "            // initialize communication with the iframe\n",
       "            if(!('pingers' in window)){\n",
       "                window.pingers = {};\n",
       "            }\n",
       "\n",
       "            window.pingers[graphId] = setInterval(function() {\n",
       "                that.graphContentWindow = $('#'+graphId)[0].contentWindow;\n",
       "                that.graphContentWindow.postMessage({task: 'ping'}, plotlyDomain);\n",
       "            }, 200);\n",
       "\n",
       "            // Assign a message listener to the 'message' events\n",
       "            // from iframe's postMessage protocol.\n",
       "            // Filter the messages by iframe src so that the right message\n",
       "            // gets passed to the right widget\n",
       "            if(!('messageListeners' in window)){\n",
       "                 window.messageListeners = {};\n",
       "            }\n",
       "\n",
       "            window.messageListeners[graphId] = function(e) {\n",
       "                if(_graph_url.indexOf(e.origin)>-1) {\n",
       "                    var frame = document.getElementById(graphId);\n",
       "\n",
       "                    if(frame === null){\n",
       "                        // frame doesn't exist in the dom anymore, clean up it's old event listener\n",
       "                        window.removeEventListener('message', window.messageListeners[graphId]);\n",
       "                        clearInterval(window.pingers[graphId]);\n",
       "                    } else if(frame.contentWindow === e.source) {\n",
       "                        // TODO: Stop event propagation, so each frame doesn't listen and filter\n",
       "                        var frameContentWindow = $('#'+graphId)[0].contentWindow;\n",
       "                        var message = e.data;\n",
       "\n",
       "                        if('pong' in message && message.pong) {\n",
       "                            $('#loading-'+graphId).hide();\n",
       "                            clearInterval(window.pingers[graphId]);\n",
       "                            that.send({event: 'pong', graphId: graphId});\n",
       "                        } else if (message.type==='hover' ||\n",
       "                                   message.type==='zoom'  ||\n",
       "                                   message.type==='click' ||\n",
       "                                   message.type==='unhover') {\n",
       "\n",
       "                            // click and hover events contain all of the data in the traces,\n",
       "                            // which can be a very large object and may take a ton of time\n",
       "                            // to pass to the python backend. Strip out the data, and require\n",
       "                            // the user to call get_figure if they need trace information\n",
       "                            if(message.type !== 'zoom') {\n",
       "                                for(var i in message.points) {\n",
       "                                    delete message.points[i].data;\n",
       "                                    delete message.points[i].fullData;\n",
       "                                }\n",
       "                            }\n",
       "                            that.send({event: message.type, message: message, graphId: graphId});\n",
       "                        } else if (message.task === 'getAttributes') {\n",
       "                            that.send({event: 'getAttributes', response: message.response});\n",
       "                        }\n",
       "                    }\n",
       "                }\n",
       "            };\n",
       "\n",
       "            window.removeEventListener('message', window.messageListeners[graphId]);\n",
       "            window.addEventListener('message', window.messageListeners[graphId]);\n",
       "\n",
       "        },\n",
       "\n",
       "        update: function() {\n",
       "            // Listen for messages from the graph widget in python\n",
       "            var jmessage = this.model.get('_message');\n",
       "            var message = JSON.parse(jmessage);\n",
       "\n",
       "            // check for duplicate messages\n",
       "            if(!('messageIds' in window)){\n",
       "                window.messageIds = {};\n",
       "            }\n",
       "\n",
       "            if(!(message.uid in window.messageIds)){\n",
       "                // message hasn't been received yet, do stuff\n",
       "                window.messageIds[message.uid] = true;\n",
       "\n",
       "                if (message.fadeTo) {\n",
       "                    this.fadeTo(message);\n",
       "                } else {\n",
       "                    var plot = $('#' + message.graphId)[0].contentWindow;\n",
       "                    plot.postMessage(message, window.plotlyDomains[message.graphId]);\n",
       "                }\n",
       "            }\n",
       "\n",
       "            return GraphView.__super__.update.apply(this);\n",
       "        },\n",
       "\n",
       "        /**\n",
       "         * Wrapper for jquery's `fadeTo` function.\n",
       "         *\n",
       "         * @param message Contains the id we need to find the element.\n",
       "         */\n",
       "        fadeTo: function (message) {\n",
       "            var plot = $('#' + message.graphId);\n",
       "            plot.fadeTo(message.duration, message.opacity);\n",
       "        }\n",
       "    });\n",
       "\n",
       "    // Register the GraphView with the widget manager.\n",
       "    return {\n",
       "        GraphView: GraphView\n",
       "    }\n",
       "\n",
       "});\n",
       "\n",
       "//@ sourceURL=graphWidget.js\n"
      ],
      "text/plain": [
       "<IPython.core.display.Javascript object>"
      ]
     },
     "metadata": {},
     "output_type": "display_data"
    }
   ],
   "source": [
    "import pandas as pd \n",
    "import numpy as np \n",
    "import datetime\n",
    "import pandas_datareader.data as web\n",
    "import yahoo_finance as yf\n",
    "import plotly.graph_objects as go\n",
    "from plotly.offline import iplot, init_notebook_mode\n",
    "import cufflinks\n",
    "cufflinks.go_offline(connected=True)\n",
    "init_notebook_mode(connected=True)\n",
    "\n",
    "\n",
    "import random \n",
    "from ipywidgets import widgets\n",
    "from chart_studio.widgets import GraphWidget\n",
    "from scipy.stats import ttest_ind,probplot,bayes_mvs, linregress\n",
    "from ipywidgets import interact,interact_manual,interactive_output\n"
   ]
  },
  {
   "cell_type": "markdown",
   "metadata": {},
   "source": [
    "<h1>Symbol in Consumer Industry "
   ]
  },
  {
   "cell_type": "code",
   "execution_count": 2,
   "metadata": {
    "hideCode": false,
    "hidePrompt": false
   },
   "outputs": [],
   "source": [
    "#get basic stock date from 2018-01-01 to today\n",
    "start = datetime.datetime(2018,1,1)\n",
    "end = datetime.date.today()\n",
    "symbols = ['CPB','CL','COST','SJM','K','PEP','KO','HSY','KHC','WMT']\n",
    "\n",
    "solar_df = web.get_data_yahoo(symbols, start,end)\n",
    "df = solar_df.stack().reset_index().set_index('Date')\n",
    "df['log_return']= np.log(df['Close']/df['Open'])"
   ]
  },
  {
   "cell_type": "code",
   "execution_count": 3,
   "metadata": {
    "hideCode": false,
    "hidePrompt": false
   },
   "outputs": [],
   "source": [
    "symbol_names ={'CPB': 'Campbell Soup Company',\n",
    " 'CL': 'Colgate-Palmolive Company',\n",
    " 'COST': 'Costco Wholesale Corporation',\n",
    " 'SJM': 'J.M.Smucker Company',\n",
    " 'K': 'Kellogg Company',\n",
    " 'PEP': 'PepsiCo, Inc.',\n",
    " 'KO': 'The Coca-Cola Company',\n",
    " 'HSY': 'The Hershey Company',\n",
    " 'KHC': 'The Kraft Heinz Company',\n",
    " 'WMT': 'Walmart Inc.'}"
   ]
  },
  {
   "cell_type": "code",
   "execution_count": 4,
   "metadata": {
    "hideCode": true,
    "hidePrompt": false
   },
   "outputs": [],
   "source": [
    "#some essential widgets list\n",
    "s = [(value,key) for key, value in symbol_names.items() ]\n",
    "num = widgets.BoundedIntText(\n",
    "    value=300,\n",
    "    min=1,\n",
    "    max=len(df),\n",
    "    step=1,\n",
    "    description='#Samples',\n",
    "    disabled=False\n",
    ")\n",
    "start_date = widgets.DatePicker(\n",
    "    description='Start Date',\n",
    "    value= pd.to_datetime('2018-11-01'))\n",
    "end_date = widgets.DatePicker(\n",
    "    description = 'End Date',\n",
    "    value= pd.to_datetime('2019-12-05'))\n",
    "\n",
    "\n",
    "first_textbox = widgets.Dropdown(\n",
    "    description='First Type:   ',\n",
    "    value='Open',\n",
    "    options=list(df.select_dtypes('number').columns)\n",
    ")\n",
    "\n",
    "second_textbox = widgets.Dropdown(\n",
    "    description='Second Type:   ',\n",
    "    value='Close',\n",
    "    options=list(df.select_dtypes('number').columns)\n",
    ")\n",
    "\n",
    "symbol = widgets.Dropdown(\n",
    "    description='Symbol:   ',\n",
    "    value='WMT',\n",
    "    options = s\n",
    ")\n"
   ]
  },
  {
   "cell_type": "markdown",
   "metadata": {},
   "source": [
    "<h2> Part1. Time Series Figure"
   ]
  },
  {
   "cell_type": "code",
   "execution_count": 5,
   "metadata": {
    "hideCode": true,
    "hidePrompt": false
   },
   "outputs": [],
   "source": [
    "trace1 = go.Scatter(x=df.loc[df.Symbols=='WMT'].index, y=df.loc[df.Symbols=='WMT']['Open'], opacity=0.75, name='Open Price',mode='markers+lines')\n",
    "trace2 = go.Scatter(x=df.loc[df.Symbols=='WMT'].index, y=df.loc[df.Symbols=='WMT']['Close'], opacity=0.75, name='Close Price',mode='markers+lines')\n",
    "g = go.FigureWidget(data=[trace1, trace2],\n",
    "                    layout=go.Layout(height=600,width=1000,\n",
    "                        title=dict(\n",
    "                            text='Open and Close Price of Walmart'\n",
    "                        ),\n",
    "                          yaxis_title_text = 'Price(USD)',\n",
    "                        barmode='overlay'\n",
    "                                     \n",
    "                    ))"
   ]
  },
  {
   "cell_type": "code",
   "execution_count": 6,
   "metadata": {
    "hideCode": true
   },
   "outputs": [],
   "source": [
    "def validate():\n",
    "    if (start_date.value >= pd.Timestamp(start)) and (end_date.value <= pd.Timestamp(end)) and (symbol.value in symbols):\n",
    "        return True\n",
    "    else:\n",
    "        return False\n",
    "    \n",
    "\n",
    "def response(change):\n",
    "\n",
    "    if validate():\n",
    "        start= pd.Timestamp(start_date.value)\n",
    "        end = pd.Timestamp(end_date.value)\n",
    "        filter_list = [i and j and k for i,j,k in\n",
    "                          zip(df['Symbols'] == symbol.value, df.index >= start,\n",
    "                              df.index <=end)]\n",
    "        temp_df = df[filter_list]\n",
    "        y1 = temp_df[first_textbox.value]\n",
    "        y2 = temp_df[second_textbox.value]\n",
    "        with g.batch_update():\n",
    "            g.data[0].y = y1\n",
    "            g.data[1].y = y2\n",
    "            g.data[0].name = f'{first_textbox.value}'\n",
    "            g.data[1].name = f'{second_textbox.value}'\n",
    "            g.layout.barmode = 'overlay'\n",
    "            g.layout.title = f'The {first_textbox.value} and {second_textbox.value} Price of {symbol_names[symbol.value]}(USD)'\n",
    "            g.layout.yaxis.title = 'Price(USD)'\n",
    "\n",
    "\n",
    "\n",
    "\n",
    "\n",
    "start_date.observe(response, names=\"value\")\n",
    "end_date.observe(response, names=\"value\")\n",
    "first_textbox.observe(response, names=\"value\")\n",
    "second_textbox.observe(response, names=\"value\")\n",
    "symbol.observe(response, names=\"value\")"
   ]
  },
  {
   "cell_type": "markdown",
   "metadata": {},
   "source": [
    "Please Select your interested symbol to display graphs"
   ]
  },
  {
   "cell_type": "code",
   "execution_count": 7,
   "metadata": {
    "hideCode": true
   },
   "outputs": [
    {
     "data": {
      "application/vnd.jupyter.widget-view+json": {
       "model_id": "9c2807be8b9247e1aa3d48a604ef5151",
       "version_major": 2,
       "version_minor": 0
      },
      "text/plain": [
       "VBox(children=(HBox(children=(DatePicker(value=Timestamp('2018-11-01 00:00:00'), description='Start Date'), Da…"
      ]
     },
     "metadata": {},
     "output_type": "display_data"
    }
   ],
   "source": [
    "container = widgets.HBox(children=[start_date, end_date])\n",
    "container2 = widgets.HBox([first_textbox, second_textbox])\n",
    "widgets.VBox([container,\n",
    "               container2,symbol,g])"
   ]
  },
  {
   "cell_type": "markdown",
   "metadata": {},
   "source": [
    "<h2> Part 2.One Symbol Analysis"
   ]
  },
  {
   "cell_type": "markdown",
   "metadata": {},
   "source": [
    "<h3> 2.1 Visualization"
   ]
  },
  {
   "cell_type": "code",
   "execution_count": 8,
   "metadata": {
    "hideCode": true
   },
   "outputs": [],
   "source": [
    "def one_symbol_visualizatoin(symbol,n):\n",
    "    \n",
    "    filter_idx  = random.sample(list(df.index.unique()),n)\n",
    "    regre_df = df.loc[filter_idx]\n",
    "\n",
    "    data1 =np.array(regre_df.loc[regre_df.Symbols==symbol]['log_return'])\n",
    "    (osm, osr), (slope, intercept, r) = probplot(data1,fit=True)\n",
    "    \n",
    "    trace1=go.Histogram(\n",
    "        x= data1,\n",
    "        histnorm='percent',\n",
    "        opacity=0.75,\n",
    "        xaxis='x1',\n",
    "        yaxis='y1'\n",
    "    )\n",
    "    trace2 = go.Scatter(x=osm,y=osr,mode='markers',opacity=0.6,name='data', xaxis='x2',yaxis='y2')\n",
    "    trace3 = go.Scatter(x=osm,y=osm*slope+intercept,mode='lines',name='fit', xaxis='x2',yaxis='y2')\n",
    "\n",
    "    axis=dict(\n",
    "       showline=True,\n",
    "       zeroline=False,\n",
    "       showgrid=True,\n",
    "       mirror=True,\n",
    "       ticklen=4,\n",
    "       gridcolor='#ffffff',\n",
    "       tickfont=dict(size=10))\n",
    "    \n",
    "    layout = dict(\n",
    "        width=1000,\n",
    "        height=500,\n",
    "        autosize=False,\n",
    "        title=f'Histogram and Probability plot of the log return for {symbol_names[symbol]}',\n",
    "        margin = dict(t=50),\n",
    "        showlegend=False,\n",
    "        xaxis1=dict(axis, **dict(domain=[0, 0.45], anchor='y1', showticklabels=True,title='Log Return(day)')),\n",
    "        xaxis2=dict(axis, **dict(domain=[0.52, 0.95], anchor='y2', showticklabels=True,title='Theoretical quantiles')),\n",
    "        #xaxis3=dict(axis, **dict(domain=[0, 1], anchor='y3')),\n",
    "        yaxis1=dict(axis, **dict(domain=[0, 1], anchor='x1',title = \"Percentage\")),\n",
    "        yaxis2=dict(axis, **dict(domain=[0, 1], anchor='x2', title='Ordered Values')))\n",
    "    fig = dict(data=[trace1, trace2, trace3], layout=layout)\n",
    "    iplot(fig)"
   ]
  },
  {
   "cell_type": "markdown",
   "metadata": {},
   "source": [
    "Please Select your interested symbol and input a number $\\leq 487$ for samples"
   ]
  },
  {
   "cell_type": "code",
   "execution_count": 9,
   "metadata": {
    "hideCode": true
   },
   "outputs": [
    {
     "data": {
      "application/vnd.jupyter.widget-view+json": {
       "model_id": "453d6db8976d4c578ea21e3dea6f79b2",
       "version_major": 2,
       "version_minor": 0
      },
      "text/plain": [
       "HBox(children=(Dropdown(description='Symbol:   ', index=9, options=(('Campbell Soup Company', 'CPB'), ('Colgat…"
      ]
     },
     "metadata": {},
     "output_type": "display_data"
    },
    {
     "data": {
      "application/vnd.jupyter.widget-view+json": {
       "model_id": "cb05d89c116341ff9f94103ecb5f5d39",
       "version_major": 2,
       "version_minor": 0
      },
      "text/plain": [
       "Output()"
      ]
     },
     "metadata": {},
     "output_type": "display_data"
    }
   ],
   "source": [
    "out = interactive_output(one_symbol_visualizatoin, \n",
    "             {'symbol':  symbol, \n",
    "             'n':num})\n",
    "\n",
    "u=widgets.HBox([symbol,num])\n",
    "display(u,out)"
   ]
  },
  {
   "cell_type": "markdown",
   "metadata": {},
   "source": [
    "<h3>2.2 Analysis"
   ]
  },
  {
   "cell_type": "markdown",
   "metadata": {},
   "source": [
    "<h4>2.2.1 Confidence Interval"
   ]
  },
  {
   "cell_type": "code",
   "execution_count": 10,
   "metadata": {
    "hideCode": true
   },
   "outputs": [],
   "source": [
    "def confidence(symbol,confidence_level,n):\n",
    "    filter_idx  = random.sample(list(df.index.unique()),n)\n",
    "    regre_df = df.loc[filter_idx]\n",
    "    log_return_data = np.array(df.loc[df.Symbols==symbol]['log_return'])\n",
    "    mean_cntr, var_cntr, std_cntr = bayes_mvs(log_return_data,alpha=confidence_level)\n",
    "    CI_mu = mean_cntr.minmax\n",
    "    CI_var = var_cntr.minmax\n",
    "    CI_mur = tuple([round(x,5) if isinstance(x, float) else x for x in CI_mu])\n",
    "    CI_varr = tuple([round(x,5) if isinstance(x, float) else x for x in CI_var])\n",
    "    trace = go.Table(header=dict(values=['Company',f'{str(confidence_level*100)}% Confidence Interval of \\u03BC',\n",
    "                                          f'{str(confidence_level*100)}% Confidence Interval of \\u03C3']),\n",
    "                     cells=dict(values= [[symbol_names[symbol]], [str(CI_mur)], [str(CI_varr)]]))\n",
    "    layout = go.Layout(height=280,title=f'{str(confidence_level*100)}% Confidence Interval Analysis of {symbol_names[symbol]}')\n",
    "    fig = go.Figure(data=trace,layout=layout)\n",
    "    fig.show()"
   ]
  },
  {
   "cell_type": "markdown",
   "metadata": {},
   "source": [
    "Please Select your interested symbol to display graphs"
   ]
  },
  {
   "cell_type": "code",
   "execution_count": 11,
   "metadata": {
    "hideCode": true
   },
   "outputs": [
    {
     "data": {
      "application/vnd.jupyter.widget-view+json": {
       "model_id": "56adba860f194986951f48ca89a1cd8c",
       "version_major": 2,
       "version_minor": 0
      },
      "text/plain": [
       "HBox(children=(Dropdown(description='Symbol:   ', index=9, options=(('Campbell Soup Company', 'CPB'), ('Colgat…"
      ]
     },
     "metadata": {},
     "output_type": "display_data"
    },
    {
     "data": {
      "application/vnd.jupyter.widget-view+json": {
       "model_id": "23513f3bc2bf4e9d80fa3443a9dd11e1",
       "version_major": 2,
       "version_minor": 0
      },
      "text/plain": [
       "Output()"
      ]
     },
     "metadata": {},
     "output_type": "display_data"
    }
   ],
   "source": [
    "cl = widgets.BoundedFloatText(\n",
    "    value=0.95,\n",
    "    min=0,\n",
    "    max=1.0,\n",
    "    step = 0.005,\n",
    "    description='Confidence Level',\n",
    "    disabled=False\n",
    ")\n",
    "\n",
    "u =   widgets.HBox([symbol,cl,num])\n",
    "out = interactive_output(confidence, \n",
    "             {'symbol':  symbol, \n",
    "             'confidence_level':cl,\n",
    "              'n':num})\n",
    "\n",
    "display(u,out)"
   ]
  },
  {
   "cell_type": "markdown",
   "metadata": {},
   "source": [
    "<h4> 2.2.2 Regression Over Time"
   ]
  },
  {
   "cell_type": "code",
   "execution_count": 12,
   "metadata": {
    "hideCode": true
   },
   "outputs": [],
   "source": [
    "def one_symbol_regression(symbol):\n",
    "    \n",
    "    start_price  = df.loc[df.Symbols==symbol]['Open'][0]\n",
    "    regre_df = df.loc[df.Symbols==symbol]\n",
    "    log_return_vs_180102 = np.array(np.log(regre_df['Close']/start_price))\n",
    "    accumulate_days = np.array((regre_df.index - start).days)\n",
    "    \n",
    "    slope, intercept, r_value, p_value, std_err  = linregress(accumulate_days,log_return_vs_180102 )\n",
    " \n",
    "    \n",
    "    trace1 = go.Scatter(x=accumulate_days,y=log_return_vs_180102,mode='markers',name='data', xaxis='x1',yaxis='y1')\n",
    "    trace2 = go.Scatter(x=accumulate_days,y=intercept+slope*accumulate_days,mode='lines',name='fit',xaxis='x1',yaxis='y1')\n",
    "    trace3 = go.Scatter(x=accumulate_days,y=intercept+slope*accumulate_days-log_return_vs_180102,mode='markers',name='residual',xaxis='x2',yaxis='y2')\n",
    "    trace4 = go.Table(header=dict(values=['slope', 'intercept', 'R^2', 'p_value', 'std_err']),\n",
    "                 cells=dict(values= [round(x,6) for x in [slope, intercept, (r_value)**2, p_value, std_err]]))\n",
    "   \n",
    "    axis=dict(\n",
    "    showline=True,\n",
    "    zeroline=False,\n",
    "    showgrid=True,\n",
    "    mirror=True,\n",
    "    ticklen=4,\n",
    "    gridcolor='#ffffff',\n",
    "    tickfont=dict(size=10)\n",
    ")\n",
    "    layout2 = dict(\n",
    "        width=950,\n",
    "        height=800,\n",
    "        autosize=False,\n",
    "        title=f'Regression Model of log return of {symbol_names[symbol]} vs Time',\n",
    "        margin = dict(t=100),\n",
    "        showlegend=False,\n",
    "        xaxis1=dict(axis, **dict(domain=[0, 1], anchor='y1', showticklabels=False)),\n",
    "        xaxis2=dict(axis, **dict(domain=[0, 1], anchor='y2', showticklabels=True,title='Accumulated Datys')),\n",
    "        #xaxis3=dict(axis, **dict(domain=[0, 1], anchor='y3')),\n",
    "        yaxis1=dict(axis, **dict(domain=[0.4+0.05, 0.85], anchor='x1', hoverformat='.2f',title = f'Log return vs 2018-01-02')),\n",
    "        yaxis2=dict(axis, **dict(domain=[0.0, 0.4], anchor='x2',  hoverformat='.2f',title='Residual')))\n",
    "        #yaxis3=dict(axis, **dict(domain=[0.0, 0.21], anchor='x3', , hoverformat='.2f')))\n",
    "\n",
    "    fig2 = dict(data=[trace1, trace2, trace3, trace4], layout=layout2)\n",
    "    iplot(fig2)\n"
   ]
  },
  {
   "cell_type": "markdown",
   "metadata": {},
   "source": [
    "Please Select your interested symbol"
   ]
  },
  {
   "cell_type": "code",
   "execution_count": 13,
   "metadata": {
    "hideCode": true
   },
   "outputs": [
    {
     "data": {
      "application/vnd.jupyter.widget-view+json": {
       "model_id": "3c618db371d64d2d8f8265981faf008c",
       "version_major": 2,
       "version_minor": 0
      },
      "text/plain": [
       "interactive(children=(Dropdown(description='Symbol:   ', index=9, options=(('Campbell Soup Company', 'CPB'), (…"
      ]
     },
     "metadata": {},
     "output_type": "display_data"
    },
    {
     "data": {
      "text/plain": [
       "<function __main__.one_symbol_regression(symbol)>"
      ]
     },
     "execution_count": 13,
     "metadata": {},
     "output_type": "execute_result"
    }
   ],
   "source": [
    "interact(one_symbol_regression,symbol=symbol)"
   ]
  },
  {
   "cell_type": "markdown",
   "metadata": {},
   "source": [
    "<h2> Part 3. Two Symbol Analysis"
   ]
  },
  {
   "cell_type": "markdown",
   "metadata": {},
   "source": [
    "### 1. If the two population means are equal?"
   ]
  },
  {
   "cell_type": "code",
   "execution_count": 14,
   "metadata": {
    "hideCode": true
   },
   "outputs": [],
   "source": [
    "def test_two_symbol_mean(symbol_1,symbol_2,num_of_sample1,num_of_sample2,alpha):\n",
    "    import random\n",
    "    s1 = list(df.loc[df.Symbols==symbol_1]['log_return'])\n",
    "    s2 = list(df.loc[df.Symbols==symbol_2]['log_return'])\n",
    "    data1 = random.sample(s1, num_of_sample1)\n",
    "    data2 = random.sample(s2, num_of_sample2)\n",
    "    mean1,mean2=  round(np.mean(data1),4),round(np.mean(data2),4)\n",
    "    std1,std2 = round(np.std(data1,ddof=1),4),round(np.std(data2,ddof=1),4)\n",
    "    \n",
    "    print(f'The sample mean of {num_of_sample1} sample {symbol_names[symbol_1]} and {num_of_sample2} sample {symbol_names[symbol_2]}\\n are {mean1} and {mean2}\\n')\n",
    "    print(f'The standard divation of {num_of_sample1} {symbol_names[symbol_1]} and {num_of_sample2} {symbol_names[symbol_2]}\\n are {std1} and {std2}\\n')\n",
    "    plot_df = df.pivot(values='log_return',columns='Symbols')\n",
    "    plot_df[[symbol_1,symbol_2]].iplot(kind='histogram',title=f\"Distribution of {symbol_names[symbol_1]} and {symbol_names[symbol_2]}\",xTitle='log return', yTitle='Count')\n",
    "\n",
    "    t_statistic, p_value = ttest_ind(data1,data2,equal_var=False)\n",
    "    print(f\"Use t-test to test the equality of  {symbol_names[symbol_1]} and {symbol_names[symbol_2]}'s population means\\n\")\n",
    "    print(f'the t_statisc value is {t_statistic}\\n')\n",
    "    print(f'the p value value is {p_value}\\n')\n",
    "    if p_value > alpha:\n",
    "        print('Accept null hypothesis that the means are equal.')\n",
    "    else:\n",
    "        print('Reject the null hypothesis that the means are equal.')\n",
    "\n",
    "          \n"
   ]
  },
  {
   "cell_type": "markdown",
   "metadata": {},
   "source": [
    "Please select two your interested symbols and input Amounts $\\leq 487$ , $\\alpha\\leq 1$"
   ]
  },
  {
   "cell_type": "code",
   "execution_count": 15,
   "metadata": {
    "hideCode": true
   },
   "outputs": [
    {
     "data": {
      "application/vnd.jupyter.widget-view+json": {
       "model_id": "7aa5adb9d3924925851f9e9052f2f726",
       "version_major": 2,
       "version_minor": 0
      },
      "text/plain": [
       "HBox(children=(Dropdown(description='Symbol 1', index=9, options=(('Campbell Soup Company', 'CPB'), ('Colgate-…"
      ]
     },
     "metadata": {},
     "output_type": "display_data"
    },
    {
     "data": {
      "application/vnd.jupyter.widget-view+json": {
       "model_id": "e09e95302aef4c5980b16ad9f09f7d12",
       "version_major": 2,
       "version_minor": 0
      },
      "text/plain": [
       "HBox(children=(BoundedIntText(value=300, description='1 Amounts', max=4870, min=1), BoundedIntText(value=300, …"
      ]
     },
     "metadata": {},
     "output_type": "display_data"
    },
    {
     "data": {
      "application/vnd.jupyter.widget-view+json": {
       "model_id": "1a1f7fcd78a842a1b901b4a84ac8adcd",
       "version_major": 2,
       "version_minor": 0
      },
      "text/plain": [
       "BoundedFloatText(value=0.05, description='Alpha(0-1)', max=1.0, step=0.005)"
      ]
     },
     "metadata": {},
     "output_type": "display_data"
    },
    {
     "data": {
      "application/vnd.jupyter.widget-view+json": {
       "model_id": "123d0760f2f342dfa35d3fe081b80362",
       "version_major": 2,
       "version_minor": 0
      },
      "text/plain": [
       "Output()"
      ]
     },
     "metadata": {},
     "output_type": "display_data"
    }
   ],
   "source": [
    "symbol_1= widgets.Dropdown(options=s,value='WMT',description='Symbol 1')\n",
    "symbol_2 = widgets.Dropdown(options=s,value='COST',description='Symbol 2')\n",
    "num1 = widgets.BoundedIntText(\n",
    "    value=300,\n",
    "    min=1,\n",
    "    max=len(df),\n",
    "    step=1,\n",
    "    description='1 Amounts',\n",
    "    disabled=False\n",
    ")\n",
    "num2= widgets.BoundedIntText(\n",
    "    value=300,\n",
    "    min=1,\n",
    "    max=len(df),\n",
    "    step=1,\n",
    "    description='2 Amounts',\n",
    "    disabled=False\n",
    ")\n",
    "a = widgets.BoundedFloatText(\n",
    "    value=0.05,\n",
    "    min=0,\n",
    "    max=1.0,\n",
    "    step = 0.005,\n",
    "    description='Alpha(0-1)',\n",
    "    disabled=False\n",
    ")\n",
    "u1 = widgets.HBox([symbol_1,symbol_2])\n",
    "u2 = widgets.HBox([num1,num2])\n",
    "\n",
    "out = interactive_output(test_two_symbol_mean, \n",
    "             {'symbol_1':  symbol_1, \n",
    "             'symbol_2':symbol_2,\n",
    "             'num_of_sample1':num1, \n",
    "             'num_of_sample2':num2,\n",
    "             'alpha':a})\n",
    "\n",
    "display(u1,u2,a,out)"
   ]
  },
  {
   "cell_type": "markdown",
   "metadata": {},
   "source": [
    "### 2. Perform a Regression  Model"
   ]
  },
  {
   "cell_type": "code",
   "execution_count": 16,
   "metadata": {
    "hideCode": true
   },
   "outputs": [],
   "source": [
    "def regression(symbol_1,symbol_2,n):\n",
    "    #from plotly.subplots import make_subplots\n",
    "    from scipy.stats import linregress\n",
    "    import random \n",
    "    filter_idx  = random.sample(list(df.index.unique()),n)\n",
    "    regre_df = df.loc[filter_idx]\n",
    "    plot_df= regre_df.pivot(values='log_return',columns='Symbols')\n",
    "    data1 =np.array(regre_df.loc[regre_df.Symbols==symbol_1]['log_return'])\n",
    "    data2 =np.array(regre_df.loc[regre_df.Symbols==symbol_2]['log_return'])\n",
    "    slope, intercept, r_value, p_value, std_err  = linregress(data1,data2)\n",
    "    trace1 = go.Scatter(x=data1,y=data2,mode='markers',name='data', xaxis='x1',yaxis='y1')\n",
    "    trace2 = go.Scatter(x=data1,y=intercept+slope*data1,mode='lines',name='fit',xaxis='x1',yaxis='y1')\n",
    "    trace3 = go.Scatter(x=data1,y=intercept+slope*data1-data2,mode='markers',name='residual',xaxis='x2',yaxis='y2')\n",
    "    trace4 = go.Table(header=dict(values=['slope', 'intercept', 'r_value', 'p_value', 'std_err']),\n",
    "                 cells=dict(values= [round(x,8) for x in [slope, intercept, (r_value)**2, p_value, std_err]]))\n",
    "    \n",
    "    axis=dict(\n",
    "    showline=True,\n",
    "    zeroline=False,\n",
    "    showgrid=True,\n",
    "    mirror=True,\n",
    "    ticklen=4,\n",
    "    gridcolor='#ffffff',\n",
    "    tickfont=dict(size=10)\n",
    ")\n",
    "    layout2 = dict(\n",
    "        width=950,\n",
    "        height=800,\n",
    "        autosize=False,\n",
    "        title=f'Regression Model of log return of {symbol_names[symbol_1]} and {symbol_names[symbol_2]}',\n",
    "        margin = dict(t=100),\n",
    "        showlegend=False,\n",
    "        xaxis1=dict(axis, **dict(domain=[0, 1], anchor='y1', showticklabels=False)),\n",
    "        xaxis2=dict(axis, **dict(domain=[0, 1], anchor='y2', showticklabels=True,title=f'Log return of {symbol_names[symbol_1]}')),\n",
    "        #xaxis3=dict(axis, **dict(domain=[0, 1], anchor='y3')),\n",
    "        yaxis1=dict(axis, **dict(domain=[0.4+0.05, 0.85], anchor='x1', hoverformat='.2f',title = f'Log return of {symbol_names[symbol_2]}')),\n",
    "        yaxis2=dict(axis, **dict(domain=[0.0, 0.4], anchor='x2',  hoverformat='.2f',title='Residual')))\n",
    "        #yaxis3=dict(axis, **dict(domain=[0.0, 0.21], anchor='x3', , hoverformat='.2f')))\n",
    "\n",
    "    fig2 = dict(data=[trace1, trace2, trace3, trace4], layout=layout2)\n",
    "    iplot(fig2)\n"
   ]
  },
  {
   "cell_type": "markdown",
   "metadata": {},
   "source": [
    "Please select two interestd symbols and a number $\\leq 487$"
   ]
  },
  {
   "cell_type": "code",
   "execution_count": 17,
   "metadata": {
    "hideCode": true
   },
   "outputs": [
    {
     "data": {
      "application/vnd.jupyter.widget-view+json": {
       "model_id": "7ef156ca16c141fdbb190f11988b5e9e",
       "version_major": 2,
       "version_minor": 0
      },
      "text/plain": [
       "HBox(children=(Dropdown(description='Symbol 1', index=9, options=(('Campbell Soup Company', 'CPB'), ('Colgate-…"
      ]
     },
     "metadata": {},
     "output_type": "display_data"
    },
    {
     "data": {
      "application/vnd.jupyter.widget-view+json": {
       "model_id": "2451b1ccd1b846409afcfd69770ab7f0",
       "version_major": 2,
       "version_minor": 0
      },
      "text/plain": [
       "Output()"
      ]
     },
     "metadata": {},
     "output_type": "display_data"
    }
   ],
   "source": [
    "out2 = interactive_output(regression, \n",
    "             {'symbol_1':  symbol_1, \n",
    "             'symbol_2':symbol_2,\n",
    "             'n':num})\n",
    "\n",
    "u3=widgets.HBox([symbol_1,symbol_2,num])\n",
    "display(u3,out2)"
   ]
  },
  {
   "cell_type": "code",
   "execution_count": null,
   "metadata": {},
   "outputs": [],
   "source": []
  }
 ],
 "metadata": {
  "celltoolbar": "Hide code",
  "kernelspec": {
   "display_name": "Python 3",
   "language": "python",
   "name": "python3"
  },
  "language_info": {
   "codemirror_mode": {
    "name": "ipython",
    "version": 3
   },
   "file_extension": ".py",
   "mimetype": "text/x-python",
   "name": "python",
   "nbconvert_exporter": "python",
   "pygments_lexer": "ipython3",
   "version": "3.7.3"
  }
 },
 "nbformat": 4,
 "nbformat_minor": 2
}
